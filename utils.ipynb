{
 "cells": [
  {
   "cell_type": "code",
   "execution_count": null,
   "metadata": {},
   "outputs": [],
   "source": [
    "from PIL import Image, ImageOps\n",
    "from skimage import io, measure, metrics, color, transform\n",
    "from sklearn.metrics import confusion_matrix\n",
    "from sklearn.utils import class_weight\n",
    "import cv2\n",
    "import numpy as np\n",
    "import re\n",
    "import os\n",
    "import matplotlib.pyplot as plt\n",
    "from mpl_toolkits.axes_grid1 import make_axes_locatable"
   ]
  },
  {
   "cell_type": "code",
   "execution_count": null,
   "metadata": {},
   "outputs": [],
   "source": [
    "# Split TIFF sequence into individual TIFF images\n",
    "im = Image.open(\"path/to/file.tif\")\n",
    "for i in range(1, 28):\n",
    "    try:\n",
    "        im.seek(i)\n",
    "        im.save(f\"path/to/file{i}.tif\")\n",
    "    except EOFError:\n",
    "        break"
   ]
  },
  {
   "cell_type": "code",
   "execution_count": null,
   "metadata": {},
   "outputs": [],
   "source": [
    "# Rename files\n",
    "all_masks = os.listdir(\"path/to/dir\")\n",
    "for i in all_masks:\n",
    "    for p in range(5, 28):\n",
    "        if i == \"file04\" + str(p) + \"_mask_2.tif\":\n",
    "            os.rename(\"file04\" + str(p) + \"_mask_2.tif\",\n",
    "                      \"file 04\" + str(p) + \"_mask_2.tif\")\n",
    "            \n",
    "# Move files\n",
    "for i in all_masks:\n",
    "    for p in range(1, 28):\n",
    "        if i == \"file 04\" + str(p) + \"_mask_2.tif\":\n",
    "            os.rename(\"path/to/file 04\" + str(p) + \"_mask_2.tif\",\n",
    "                      \"path2/to/file 04\" + str(p) + \"_mask_2.tif\")"
   ]
  },
  {
   "cell_type": "code",
   "execution_count": null,
   "metadata": {},
   "outputs": [],
   "source": [
    "# Merge two images\n",
    "masks = os.listdir(\"path/to/dir\")\n",
    "masks2 = os.listdir(\"path/to/dir2\")\n",
    "masks.sort(key=lambda var: [int(x) if x.isdigit() else x\n",
    "                            for x in re.findall(r\"[^0-9]|[0-9]+\", var)])\n",
    "masks2.sort(key=lambda var: [int(x) if x.isdigit() else x\n",
    "                             for x in re.findall(r\"[^0-9]|[0-9]+\", var)])\n",
    "\n",
    "for i in range(len(masks)):\n",
    "    first_image = cv2.imread(\"path/to/file/\" + masks[i])\n",
    "    second_image = cv2.imread(\"path/to/file/\" + masks2[i])\n",
    "    blended_img = cv2.add(first_image, second_image)\n",
    "    cv2.imwrite(\"path/to/file/\" + masks[i], blended_img)"
   ]
  },
  {
   "cell_type": "code",
   "execution_count": null,
   "metadata": {},
   "outputs": [],
   "source": [
    "# Zero-pad images\n",
    "val_masks = os.listdir(\"path/to/dir\")\n",
    "for i in val_masks:\n",
    "    im = Image.open(\"path/to/file/\" + i)\n",
    "    old_size = im.size\n",
    "    new_size = (1398, 1798)\n",
    "\n",
    "    if old_size[0] % 2 == 0:\n",
    "        add_left = add_right = (new_size[0] - old_size[0]) // 2\n",
    "    else:\n",
    "        add_left = (new_size[0] - old_size[0]) // 2\n",
    "        add_right = (new_size[0] - old_size[0]) // 2 + 1\n",
    "    \n",
    "    if old_size[1] % 2 == 0:\n",
    "        add_top = add_bottom = (new_size[1] - old_size[1]) // 2\n",
    "    else:\n",
    "        add_top = (new_size[1] - old_size[1]) // 2\n",
    "        add_bottom = (new_size[1] - old_size[1]) // 2 + 1\n",
    "\n",
    "    im_with_border = ImageOps.expand(im, border=(add_left, add_top, add_right, add_bottom))\n",
    "    im_with_border.save(\"path/to/bordered_\" + i)"
   ]
  },
  {
   "cell_type": "code",
   "execution_count": null,
   "metadata": {},
   "outputs": [],
   "source": [
    "# Crop images\n",
    "os.chdir(\"path/to/dir\")\n",
    "for i in os.listdir():\n",
    "    if re.search(r\"whirls 13\", i) != None:\n",
    "        im = cv2.imread(i, -1)\n",
    "        cropped_im = im[:, 18:]\n",
    "        cv2.imwrite(\"path/to/cropped_\" + i, cropped_im)"
   ]
  },
  {
   "cell_type": "code",
   "execution_count": null,
   "metadata": {},
   "outputs": [],
   "source": [
    "# Border images to make them square\n",
    "os.chdir(\"path/to/dir\")\n",
    "for i in os.listdir():\n",
    "    if re.search(r\"whirls 14\", i) != None:\n",
    "        im = cv2.imread(i, -1)\n",
    "        bordered_im = cv2.copyMakeBorder(im, 0, 0, 15, 15, cv2.BORDER_CONSTANT, value=0)\n",
    "        cv2.imwrite(\"path/to/bordered_\" + i, bordered_im)"
   ]
  },
  {
   "cell_type": "code",
   "execution_count": null,
   "metadata": {
    "scrolled": true
   },
   "outputs": [],
   "source": [
    "# Test UnetWeightMap\n",
    "from unet_weight_map import UnetWeightMap\n",
    "\n",
    "ma = cv2.imread(\"path/to/file.tif\")\n",
    "ma = cv2.cvtColor(ma, cv2.COLOR_BGR2GRAY)\n",
    "ma = cv2.resize(ma, (608, 608), interpolation=cv2.INTER_NEAREST)\n",
    "weight_map = UnetWeightMap(ma)\n",
    "\n",
    "fig, ax = plt.subplots()\n",
    "divider = make_axes_locatable(ax)\n",
    "cax = divider.append_axes(\"right\", size=\"5%\", pad=0.05)\n",
    "im = ax.imshow(weight_map, cmap=\"hot\")\n",
    "fig.colorbar(im, cax=cax, orientation=\"vertical\")\n",
    "plt.show()"
   ]
  },
  {
   "cell_type": "code",
   "execution_count": null,
   "metadata": {},
   "outputs": [],
   "source": [
    "# Conduct postprocessing to remove small segments\n",
    "for i in os.listdir('path/to/dir'):\n",
    "    pred = io.imread(i, plugin=\"tifffile\")\n",
    "    parasite_labels = measure.label(pred)\n",
    "    for p in range(len(np.unique(parasite_labels))):\n",
    "        if np.count_nonzero(parasite_labels == p) < 50:\n",
    "            parasite_labels[parasite_labels == p] = 0\n",
    "    parasite_labels[parasite_labels != 0] = 1\n",
    "    parasite_labels = parasite_labels.astype(\"float32\")\n",
    "    io.imsave(\"path/to/file/\" + i, parasite_labels, plugin=\"tifffile\")"
   ]
  },
  {
   "cell_type": "code",
   "execution_count": null,
   "metadata": {},
   "outputs": [],
   "source": [
    "# Threshold\n",
    "pred_list = os.listdir('path/to/dir')\n",
    "for i in pred_list:\n",
    "    pred = io.imread(i, plugin=\"tifffile\")\n",
    "    pred[pred >= 0.5] = 1\n",
    "    pred[pred < 0.5] = 0\n",
    "    io.imsave(\"path/to/file/\" + i, pred, plugin=\"tifffile\")"
   ]
  },
  {
   "cell_type": "code",
   "execution_count": null,
   "metadata": {},
   "outputs": [],
   "source": [
    "# Evaluation metrics\n",
    "ma = io.imread(\"path/to/file.tif\", plugin=\"tifffile\")\n",
    "ma = np.reshape(ma, (ma.shape[0], ma.shape[1])).astype(int)\n",
    "pred = io.imread(\"path/to/file.tif\", plugin=\"tifffile\")\n",
    "pred = np.reshape(pred, (pred.shape[0], pred.shape[1])).astype(int)\n",
    "\n",
    "score = metrics.variation_of_information(ma, pred)"
   ]
  },
  {
   "cell_type": "code",
   "execution_count": null,
   "metadata": {},
   "outputs": [],
   "source": [
    "# Evaluation metrics\n",
    "groundtruth_list, prediction_list = [] # list images here for further evaluation\n",
    "true_neg, false_pos, false_neg, true_pos = []\n",
    "for i in range(len(groundtruth_list)):\n",
    "    tn, fp, fn, tp = confusion_matrix(groundtruth_list[i].ravel(), prediction_list[i].ravel()).ravel()\n",
    "    true_neg.append(tn)\n",
    "    false_pos.append(fp)\n",
    "    false_neg.append(fn)\n",
    "    true_pos.append(tp)\n",
    "true_neg = np.sum(true_neg)\n",
    "false_pos = np.sum(false_pos)\n",
    "false_neg = np.sum(false_neg)\n",
    "true_pos = np.sum(true_pos)\n",
    "\n",
    "# Accuracy\n",
    "total = true_pos + true_neg + false_pos + false_neg\n",
    "accuracy = (true_pos + true_neg) / total\n",
    "\n",
    "# F1 score (Dice coefficient)\n",
    "f1_score = (2 * true_pos) / ((2 * true_pos) + false_pos + false_neg)\n",
    "\n",
    "precision = true_pos / (true_pos + false_pos)\n",
    "recall = true_pos / (true_pos + false_neg)\n",
    "f1_score2 = (2 * precision * recall) / (precision + recall)"
   ]
  }
 ],
 "metadata": {
  "kernelspec": {
   "display_name": "Python 3",
   "language": "python",
   "name": "python3"
  },
  "language_info": {
   "codemirror_mode": {
    "name": "ipython",
    "version": 3
   },
   "file_extension": ".py",
   "mimetype": "text/x-python",
   "name": "python",
   "nbconvert_exporter": "python",
   "pygments_lexer": "ipython3",
   "version": "3.8.8"
  }
 },
 "nbformat": 4,
 "nbformat_minor": 4
}
