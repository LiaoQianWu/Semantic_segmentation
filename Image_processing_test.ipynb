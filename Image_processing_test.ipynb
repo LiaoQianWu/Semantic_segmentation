{
 "cells": [
  {
   "cell_type": "code",
   "execution_count": 1,
   "metadata": {},
   "outputs": [],
   "source": [
    "from PIL import Image, ImageOps\n",
    "from skimage import io\n",
    "import cv2\n",
    "import numpy as np\n",
    "import re\n",
    "import os\n",
    "import matplotlib.pyplot as plt\n",
    "from mpl_toolkits.axes_grid1 import make_axes_locatable"
   ]
  },
  {
   "cell_type": "code",
   "execution_count": 2,
   "metadata": {},
   "outputs": [
    {
     "data": {
      "text/plain": [
       "'D:\\\\user\\\\Desktop\\\\(Karl) Lab_rotation\\\\Malaria_data\\\\20190704_CsGFP_whirls.mvd2-20190704_CsGFP_d17_whirls19'"
      ]
     },
     "execution_count": 2,
     "metadata": {},
     "output_type": "execute_result"
    }
   ],
   "source": [
    "os.chdir(\"D:/user/Desktop/(Karl) Lab_rotation/Malaria_data/20190704_CsGFP_whirls.mvd2-20190704_CsGFP_d17_whirls19\")\n",
    "working_dir = os.getcwd()\n",
    "working_dir"
   ]
  },
  {
   "cell_type": "code",
   "execution_count": 5,
   "metadata": {},
   "outputs": [],
   "source": [
    "#split tiff files\n",
    "os.chdir(\"D:/user/Desktop/(Karl) Lab_rotation/Malaria_data/ground_truth/C1-20190704_CsGFP_whirls.mvd2-20190704_CsGFP_d17_whirls 13\")\n",
    "im = Image.open(\"C1-20190704_CsGFP_whirls.mvd2-20190704_CsGFP_d17_whirls 13.tif\")\n",
    "\n",
    "for i in range(1, 28):\n",
    "    try:\n",
    "        im.seek(i)\n",
    "        im.save(\"D:/user/Desktop/(Karl) Lab_rotation/Malaria_segmentation_model/data/C1-20190704_CsGFP_whirls.mvd2-20190704_CsGFP_d17_whirls 13_frame%s.tif\" % i)\n",
    "    except EOFError:\n",
    "        break"
   ]
  },
  {
   "cell_type": "code",
   "execution_count": 17,
   "metadata": {},
   "outputs": [
    {
     "data": {
      "text/plain": [
       "(1798, 1398)"
      ]
     },
     "execution_count": 17,
     "metadata": {},
     "output_type": "execute_result"
    }
   ],
   "source": [
    "im_array = np.array(im)\n",
    "im_array.shape"
   ]
  },
  {
   "cell_type": "code",
   "execution_count": 37,
   "metadata": {},
   "outputs": [
    {
     "data": {
      "text/plain": [
       "(50, 1798, 1398)"
      ]
     },
     "execution_count": 37,
     "metadata": {},
     "output_type": "execute_result"
    }
   ],
   "source": [
    "im2 = io.imread(\"20190704_CsGFP_whirls.mvd2 - 20190704_CsGFP_d17_whirls 14 - C=0.tif\")\n",
    "im2.shape"
   ]
  },
  {
   "cell_type": "code",
   "execution_count": 27,
   "metadata": {
    "scrolled": true
   },
   "outputs": [
    {
     "data": {
      "text/plain": [
       "array([[[144, 149, 140, ..., 124, 125, 122],\n",
       "        [133, 131, 150, ..., 106, 114, 125],\n",
       "        [131, 123, 133, ..., 128, 122, 124],\n",
       "        ...,\n",
       "        [150, 113, 105, ..., 233, 258, 205],\n",
       "        [120, 125, 130, ..., 189, 224, 244],\n",
       "        [117, 129, 114, ..., 247, 217, 240]],\n",
       "\n",
       "       [[120, 133, 124, ..., 113, 123, 107],\n",
       "        [129, 139, 136, ..., 123, 118, 114],\n",
       "        [129, 113, 142, ..., 117, 118, 126],\n",
       "        ...,\n",
       "        [112, 109, 107, ..., 215, 226, 226],\n",
       "        [131, 116, 127, ..., 199, 189, 247],\n",
       "        [122, 125, 112, ..., 198, 216, 212]],\n",
       "\n",
       "       [[116, 134, 131, ..., 118, 136, 137],\n",
       "        [142, 142, 111, ..., 119, 117, 135],\n",
       "        [158, 133, 142, ..., 124, 140, 122],\n",
       "        ...,\n",
       "        [103, 116, 117, ..., 238, 231, 226],\n",
       "        [120, 116, 112, ..., 211, 192, 222],\n",
       "        [122, 128, 121, ..., 193, 216, 198]],\n",
       "\n",
       "       ...,\n",
       "\n",
       "       [[126, 116, 124, ..., 116, 110, 103],\n",
       "        [107, 115, 115, ..., 108,  98, 121],\n",
       "        [117, 120, 116, ..., 112, 106, 119],\n",
       "        ...,\n",
       "        [140, 117, 107, ..., 159, 174, 193],\n",
       "        [125, 125, 100, ..., 153, 180, 180],\n",
       "        [122, 127, 116, ..., 175, 179, 197]],\n",
       "\n",
       "       [[123, 118, 113, ..., 112, 113, 106],\n",
       "        [128, 120, 120, ..., 112, 114, 133],\n",
       "        [107, 128, 119, ..., 120, 113, 113],\n",
       "        ...,\n",
       "        [116, 109, 110, ..., 162, 168, 185],\n",
       "        [111, 118, 120, ..., 153, 168, 201],\n",
       "        [113, 124, 113, ..., 167, 182, 203]],\n",
       "\n",
       "       [[132, 120, 118, ..., 107, 114, 113],\n",
       "        [104, 107, 109, ..., 111, 123, 118],\n",
       "        [117, 111, 120, ..., 100, 119, 108],\n",
       "        ...,\n",
       "        [110, 110, 109, ..., 165, 176, 199],\n",
       "        [127, 125, 117, ..., 161, 199, 178],\n",
       "        [113, 120, 100, ..., 161, 168, 167]]], dtype=uint16)"
      ]
     },
     "execution_count": 27,
     "metadata": {},
     "output_type": "execute_result"
    }
   ],
   "source": [
    "im2"
   ]
  },
  {
   "cell_type": "code",
   "execution_count": 38,
   "metadata": {},
   "outputs": [],
   "source": [
    "#rename files\n",
    "all_masks = os.listdir(\"D:/user/Desktop/(Karl) Lab_rotation/Malaria_Keras_model/data/masks\")\n",
    "for i in all_masks:\n",
    "    for p in range(5, 28):\n",
    "        if i == \"C1-20190704_CsGFP_whirls.mvd2-20190704_CsGFP_d17_whirls13_frame\" + str(p) + \"_mask_2.tif\":\n",
    "            os.rename(\"C1-20190704_CsGFP_whirls.mvd2-20190704_CsGFP_d17_whirls13_frame\" + str(p) + \"_mask_2.tif\",\n",
    "                      \"C1-20190704_CsGFP_whirls.mvd2-20190704_CsGFP_d17_whirls 13_frame\" + str(p) + \"_mask_2.tif\")"
   ]
  },
  {
   "cell_type": "code",
   "execution_count": 41,
   "metadata": {},
   "outputs": [],
   "source": [
    "#move files\n",
    "for i in all_masks:\n",
    "    for p in range(1, 28):\n",
    "        if i == \"C1-20190704_CsGFP_whirls.mvd2-20190704_CsGFP_d17_whirls 13_frame\" + str(p) + \"_mask_2.tif\":\n",
    "            os.rename(\"D:/user/Desktop/(Karl) Lab_rotation/Malaria_Keras_model/data/masks/C1-20190704_CsGFP_whirls.mvd2-20190704_CsGFP_d17_whirls 14_frame\" + str(p) + \"_mask_2.tif\",\n",
    "                     \"D:/user/Desktop/(Karl) Lab_rotation/Malaria_Keras_model/data/masks2/C1-20190704_CsGFP_whirls.mvd2-20190704_CsGFP_d17_whirls 14_frame\" + str(p) + \"_mask_2.tif\")"
   ]
  },
  {
   "cell_type": "code",
   "execution_count": 25,
   "metadata": {},
   "outputs": [],
   "source": [
    "#merge two images\n",
    "masks = os.listdir(\"D:/user/Desktop/(Karl) Lab_rotation/Malaria_Keras_model/data/masks\")\n",
    "masks2 = os.listdir(\"D:/user/Desktop/(Karl) Lab_rotation/Malaria_Keras_model/data/masks2\")\n",
    "masks.sort(key=lambda var: [int(x) if x.isdigit() else x\n",
    "                                 for x in re.findall(r\"[^0-9]|[0-9]+\", var)])\n",
    "masks2.sort(key=lambda var: [int(x) if x.isdigit() else x\n",
    "                                 for x in re.findall(r\"[^0-9]|[0-9]+\", var)])\n",
    "\n",
    "for i in range(len(masks)):\n",
    "    first_image = cv2.imread(\"D:/user/Desktop/(Karl) Lab_rotation/Malaria_Keras_model/data/masks/\" + masks[i])\n",
    "    second_image = cv2.imread(\"D:/user/Desktop/(Karl) Lab_rotation/Malaria_Keras_model/data/masks2/\" + masks2[i])\n",
    "    blended_img = cv2.add(first_image, second_image)\n",
    "    cv2.imwrite(\"D:/user/Desktop/(Karl) Lab_rotation/Malaria_Keras_model/data/blended_masks/\" + masks[i], blended_img)"
   ]
  },
  {
   "cell_type": "code",
   "execution_count": 28,
   "metadata": {},
   "outputs": [],
   "source": [
    "masks = os.listdir(\"D:/user/Desktop/(Karl) Lab_rotation/Malaria_Keras_model/data/blended_masks\")\n",
    "os.chdir(\"D:/user/Desktop/(Karl) Lab_rotation/Malaria_Keras_model/data/blended_masks\")\n",
    "for i in masks:\n",
    "    for p in range(1, 28):\n",
    "        if i == \"C1-20190704_CsGFP_whirls.mvd2-20190704_CsGFP_d17_whirls 13_frame\" + str(p) + \"_mask_1.tif\":\n",
    "            os.rename(\"C1-20190704_CsGFP_whirls.mvd2-20190704_CsGFP_d17_whirls 13_frame\" + str(p) + \"_mask_1.tif\",\n",
    "                     \"C1-20190704_CsGFP_whirls.mvd2-20190704_CsGFP_d17_whirls 13_frame\" + str(p) + \"_mask.tif\")\n",
    "        if i == \"C1-20190704_CsGFP_whirls.mvd2-20190704_CsGFP_d17_whirls 14_frame\" + str(p) + \"_mask_1.tif\":\n",
    "            os.rename(\"C1-20190704_CsGFP_whirls.mvd2-20190704_CsGFP_d17_whirls 14_frame\" + str(p) + \"_mask_1.tif\",\n",
    "                     \"C1-20190704_CsGFP_whirls.mvd2-20190704_CsGFP_d17_whirls 14_frame\" + str(p) + \"_mask.tif\")"
   ]
  },
  {
   "cell_type": "code",
   "execution_count": 3,
   "metadata": {},
   "outputs": [],
   "source": [
    "#pad images with zeros\n",
    "os.chdir(\"D:/user/Desktop/(Karl) Lab_rotation/Malaria_Keras_model/data/original_data/train_masks\")\n",
    "im = Image.open(\"C1-20190704_CsGFP_whirls.mvd2-20190704_CsGFP_d17_whirls 13_frame1_mask.tif\")\n",
    "old_size = im.size\n",
    "new_size = (1398, 1798)\n",
    "\n",
    "if old_size[0] % 2 == 0:\n",
    "    add_left = add_right = (new_size[0] - old_size[0]) // 2\n",
    "else:\n",
    "    add_left = (new_size[0] - old_size[0]) // 2\n",
    "    add_right = (new_size[0] - old_size[0]) // 2 + 1\n",
    "    \n",
    "if old_size[1] % 2 == 0:\n",
    "    add_top = add_bottom = (new_size[1] - old_size[1]) // 2\n",
    "else:\n",
    "    add_top = (new_size[1] - old_size[1]) // 2\n",
    "    add_bottom = (new_size[1] - old_size[1]) // 2 + 1\n",
    "\n",
    "im_with_border = ImageOps.expand(im, border=(add_left, add_top, add_right, add_bottom))\n",
    "im_with_border.save(\"bordered_C1-20190704_CsGFP_whirls.mvd2-20190704_CsGFP_d17_whirls 13_frame1_mask.tif\")"
   ]
  },
  {
   "cell_type": "code",
   "execution_count": 7,
   "metadata": {},
   "outputs": [],
   "source": [
    "val_masks = os.listdir(\"D:/user/Desktop/(Karl) Lab_rotation/Malaria_Keras_model/data/original_data/val_masks\")\n",
    "for i in val_masks:\n",
    "    im = Image.open(\"D:/user/Desktop/(Karl) Lab_rotation/Malaria_Keras_model/data/original_data/val_masks/\" + i)\n",
    "    old_size = im.size\n",
    "    new_size = (1398, 1798)\n",
    "\n",
    "    if old_size[0] % 2 == 0:\n",
    "        add_left = add_right = (new_size[0] - old_size[0]) // 2\n",
    "    else:\n",
    "        add_left = (new_size[0] - old_size[0]) // 2\n",
    "        add_right = (new_size[0] - old_size[0]) // 2 + 1\n",
    "    if old_size[1] % 2 == 0:\n",
    "        add_top = add_bottom = (new_size[1] - old_size[1]) // 2\n",
    "    else:\n",
    "        add_top = (new_size[1] - old_size[1]) // 2\n",
    "        add_bottom = (new_size[1] - old_size[1]) // 2 + 1\n",
    "\n",
    "    im_with_border = ImageOps.expand(im, border=(add_left, add_top, add_right, add_bottom))\n",
    "    im_with_border.save(\"D:/user/Desktop/(Karl) Lab_rotation/Malaria_Keras_model/data/val_masks/val/bordered_\" + i)"
   ]
  },
  {
   "cell_type": "code",
   "execution_count": 8,
   "metadata": {},
   "outputs": [
    {
     "data": {
      "text/plain": [
       "(1798, 1398, 3)"
      ]
     },
     "execution_count": 8,
     "metadata": {},
     "output_type": "execute_result"
    }
   ],
   "source": [
    "import cv2\n",
    "import os\n",
    "os.chdir(\"D:/user/Desktop/(Karl) Lab_rotation/Malaria_Keras_model/data/train_frames/train\")\n",
    "os.getcwd()\n",
    "im = cv2.imread(\"bordered_C1-20190704_CsGFP_whirls.mvd2-20190704_CsGFP_d17_whirls 13_frame6.tif\")\n",
    "im.shape"
   ]
  },
  {
   "cell_type": "code",
   "execution_count": 9,
   "metadata": {},
   "outputs": [
    {
     "data": {
      "text/plain": [
       "(1798, 1398, 3)"
      ]
     },
     "execution_count": 9,
     "metadata": {},
     "output_type": "execute_result"
    }
   ],
   "source": [
    "os.chdir(\"D:/user/Desktop/(Karl) Lab_rotation/Malaria_Keras_model/data/train_masks/train\")\n",
    "im2 = cv2.imread(\"bordered_C1-20190704_CsGFP_whirls.mvd2-20190704_CsGFP_d17_whirls 13_frame6_mask.tif\")\n",
    "im2.shape"
   ]
  },
  {
   "cell_type": "code",
   "execution_count": 3,
   "metadata": {},
   "outputs": [],
   "source": [
    "#crop images to similar size of masks\n",
    "os.chdir(\"D:/user/Desktop/(Karl) Lab_rotation/Malaria_segmentation_model/data/test_frames\")\n",
    "for i in os.listdir():\n",
    "    im = cv2.imread(i, -1)\n",
    "    cropped_im = im[538:1417, 273:1122]\n",
    "    cv2.imwrite(\"D:/user/Desktop/(Karl) Lab_rotation/Malaria_segmentation_model/data/cropped_whirl4_test_frames/cropped_\" + i, cropped_im)"
   ]
  },
  {
   "cell_type": "code",
   "execution_count": 2,
   "metadata": {},
   "outputs": [],
   "source": [
    "os.chdir(\"D:/user/Desktop/(Karl) Lab_rotation/Malaria_segmentation_model/data/test_frames\")\n",
    "for i in os.listdir():\n",
    "    if re.search(r\"whirls 13\", i) != None:\n",
    "        im = cv2.imread(i, -1)\n",
    "        cropped_im = im[:, 18:]\n",
    "        cv2.imwrite(\"D:/user/Desktop/(Karl) Lab_rotation/Malaria_segmentation_model/data/cropped_\" + i, cropped_im)"
   ]
  },
  {
   "cell_type": "code",
   "execution_count": 4,
   "metadata": {},
   "outputs": [],
   "source": [
    "os.chdir(\"D:/user/Desktop/(Karl) Lab_rotation/Malaria_segmentation_model/data/test_masks\")\n",
    "for i in os.listdir():\n",
    "    if re.search(r\"whirls 13\", i) != None:\n",
    "        im = cv2.imread(i)\n",
    "        cropped_im = im[:594, :594]\n",
    "        cv2.imwrite(\"D:/user/Desktop/(Karl) Lab_rotation/Malaria_segmentation_model/data/cropped_\" + i, cropped_im)"
   ]
  },
  {
   "cell_type": "code",
   "execution_count": 7,
   "metadata": {},
   "outputs": [],
   "source": [
    "#border whirls 14 to square images\n",
    "os.chdir(\"D:/user/Desktop/frames\")\n",
    "for i in os.listdir():\n",
    "    if re.search(r\"whirls 14\", i) != None:\n",
    "        im = cv2.imread(i, -1)\n",
    "        bordered_im = cv2.copyMakeBorder(im, 0, 0, 15, 15, cv2.BORDER_CONSTANT, value=0)\n",
    "        cv2.imwrite(\"D:/user/Desktop/(Karl) Lab_rotation/Malaria_segmentation_model/data/\" + i, bordered_im)"
   ]
  },
  {
   "cell_type": "code",
   "execution_count": 6,
   "metadata": {},
   "outputs": [],
   "source": [
    "os.chdir(\"D:/user/Desktop/(Karl) Lab_rotation/Malaria_segmentation_model/data/test_masks\")\n",
    "for i in os.listdir():\n",
    "    if re.search(r\"whirls 14\", i) != None:\n",
    "        im = cv2.imread(i)\n",
    "        bordered_im = cv2.copyMakeBorder(im, 0, 0, 15, 15, cv2.BORDER_CONSTANT, value=0)\n",
    "        cv2.imwrite(\"D:/user/Desktop/(Karl) Lab_rotation/Malaria_segmentation_model/data/bordered_\" + i, bordered_im)"
   ]
  },
  {
   "cell_type": "code",
   "execution_count": 13,
   "metadata": {},
   "outputs": [],
   "source": [
    "os.chdir(\"D:/user/Desktop/(Karl) Lab_rotation/Malaria_segmentation_model/Unet/training_results/my_own_generator(with cropped 13 and bordered 14)/visualization\")\n",
    "\n",
    "with open(\"full_training_results_data_augmentation.txt\", \"r\") as f:\n",
    "    with open(\"full_training_results_data_augmentation2.txt\", \"w\") as fh:\n",
    "        loss = []\n",
    "        acc = []\n",
    "        val_loss = []\n",
    "        val_acc = []\n",
    "        for line in f.readlines():\n",
    "            if line.startswith(\"10/10\") or line.startswith(\"5/5\"):\n",
    "                line = line.split(\" - \")\n",
    "                loss.append(line[2])\n",
    "                acc.append(line[3])\n",
    "                val_loss.append(line[4])\n",
    "                val_acc.append(line[5])\n",
    "            \n",
    "        for i in range(len(loss)):\n",
    "            l = re.findall(r\"\\d.\\d*\", loss[i])[0]\n",
    "            loss[i] = l\n",
    "            a = re.findall(r\"\\d.\\d*\", acc[i])[0]\n",
    "            acc[i] = a\n",
    "            vl = re.findall(r\"\\d.\\d*\", val_loss[i])[0]\n",
    "            val_loss[i] = vl\n",
    "            va = re.findall(r\"\\d.\\d*\", val_acc[i])[0]\n",
    "            val_acc[i] = va\n",
    "        \n",
    "        for i in range(len(loss)):\n",
    "            print(loss[i] + \"-\" + acc[i] + \"-\" + val_loss[i] + \"-\" + val_acc[i], file=fh)"
   ]
  },
  {
   "cell_type": "code",
   "execution_count": 47,
   "metadata": {},
   "outputs": [
    {
     "data": {
      "text/plain": [
       "array([ 6, 10, 12, 38,  5, 11, 23,  1, 13, 20,  8, 37, 24,  7, 18, 39,  3,\n",
       "       31, 21, 16, 25,  4, 26, 35, 29, 27, 14,  0,  9, 15, 30, 36, 32, 33,\n",
       "       22, 19, 17, 34, 28,  2])"
      ]
     },
     "execution_count": 47,
     "metadata": {},
     "output_type": "execute_result"
    }
   ],
   "source": [
    "n = 40\n",
    "idx = np.arange(n)\n",
    "\n",
    "np.random.seed(123)\n",
    "np.random.shuffle(idx)\n",
    "\n",
    "idx"
   ]
  },
  {
   "cell_type": "code",
   "execution_count": null,
   "metadata": {},
   "outputs": [],
   "source": [
    "with open(\"malaria_dataset.txt\", \"w\") as fh:\n",
    "    print(\"train_images\", end=\":\", file=fh)\n",
    "    for i in train_images:\n",
    "        print(i, end=\":\", file=fh)\n",
    "    print(\"\\n\", file=fh)\n",
    "    print(\"val_images\", end=\":\", file=fh)\n",
    "    for j in val_images:\n",
    "        print(j, end=\":\", file=fh)\n",
    "    print(\"\\n\", file=fh)\n",
    "    print(\"train_masks\", end=\":\", file=fh)\n",
    "    for k in train_masks:\n",
    "        print(k, end=\":\", file=fh)\n",
    "    print(\"\\n\", file=fh)\n",
    "    print(\"val_masks\", end=\":\", file=fh)\n",
    "    for l in val_masks:\n",
    "        print(l, end=\":\", file=fh)"
   ]
  },
  {
   "cell_type": "code",
   "execution_count": 14,
   "metadata": {
    "scrolled": true
   },
   "outputs": [
    {
     "data": {
      "image/png": "[encoded data removed]",
      "text/plain": [
       "<Figure size 432x288 with 2 Axes>"
      ]
     },
     "metadata": {
      "needs_background": "light"
     },
     "output_type": "display_data"
    }
   ],
   "source": [
    "os.chdir(\"D:/user/Desktop/(Karl) Lab_rotation/Malaria_segmentation_model/Unet\")\n",
    "from unet_weight_map import UnetWeightMap\n",
    "\n",
    "ma = cv2.imread(\"D:/user/Desktop/(Karl) Lab_rotation/Malaria_segmentation_model/data/train_masks/train/bordered_C1-20190704_CsGFP_whirls.mvd2-20190704_CsGFP_d17_whirls 14_frame1_mask.tif\")\n",
    "ma = cv2.cvtColor(ma, cv2.COLOR_BGR2GRAY)\n",
    "ma = cv2.resize(ma, (608, 608), interpolation=cv2.INTER_NEAREST)\n",
    "\n",
    "weight_map = UnetWeightMap(ma)\n",
    "\n",
    "fig, ax = plt.subplots()\n",
    "divider = make_axes_locatable(ax)\n",
    "cax = divider.append_axes(\"right\", size=\"5%\", pad=0.05)\n",
    "\n",
    "im = ax.imshow(weight_map, cmap=\"hot\")\n",
    "\n",
    "fig.colorbar(im, cax=cax, orientation=\"vertical\")\n",
    "plt.show()"
   ]
  }
 ],
 "metadata": {
  "kernelspec": {
   "display_name": "Python 3",
   "language": "python",
   "name": "python3"
  },
  "language_info": {
   "codemirror_mode": {
    "name": "ipython",
    "version": 3
   },
   "file_extension": ".py",
   "mimetype": "text/x-python",
   "name": "python",
   "nbconvert_exporter": "python",
   "pygments_lexer": "ipython3",
   "version": "3.7.3"
  }
 },
 "nbformat": 4,
 "nbformat_minor": 4
}
